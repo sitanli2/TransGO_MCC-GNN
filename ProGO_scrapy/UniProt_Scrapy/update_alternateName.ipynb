{
 "cells": [
  {
   "cell_type": "code",
   "execution_count": 1,
   "metadata": {},
   "outputs": [],
   "source": [
    "from pymongo import MongoClient\n",
    "from gridfs import GridFS\n",
    "\n",
    "import pandas as pd\n",
    "\n",
    "import tqdm\n",
    "import requests\n",
    "import urllib.request as request\n",
    "from bs4 import BeautifulSoup\n",
    "from progressbar import ProgressBar\n",
    "import json"
   ]
  },
  {
   "cell_type": "code",
   "execution_count": 2,
   "metadata": {},
   "outputs": [],
   "source": [
    "# 建立mongodb连接\n",
    "# mongoClient = MongoClient('mongodb://localhost:27017/')  \n",
    "mongoClient = MongoClient('mongodb://172.10.10.47:27019/') \n",
    "dtmr_dev = mongoClient.get_database('dtmr_dev')\n",
    "dtmr_dev.authenticate('dtmr_dev', 'dtmr_dev')\n",
    "dev = dtmr_dev.get_collection('TargetInfo')"
   ]
  },
  {
   "cell_type": "code",
   "execution_count": 3,
   "metadata": {},
   "outputs": [],
   "source": [
    "UPIDs = pd.read_excel(\"target_ID.xlsx\").sort_values(by=\"No.\").set_index(\"No.\").Human_UPID.values"
   ]
  },
  {
   "cell_type": "code",
   "execution_count": 4,
   "metadata": {},
   "outputs": [
    {
     "name": "stderr",
     "output_type": "stream",
     "text": [
      "100%|████████████████████████████████████████████████████████████████████████████████| 536/536 [34:10<00:00,  3.83s/it]\n"
     ]
    }
   ],
   "source": [
    "for UPID in tqdm.tqdm(UPIDs):\n",
    "    html_url = \"https://www.uniprot.org/uniprot/\" + UPID\n",
    "    response = request.urlopen(html_url)\n",
    "    html = response.read()\n",
    "    soup = BeautifulSoup(html, 'html.parser')\n",
    "    \n",
    "    alternateNames = []\n",
    "    for name_div in soup.find_all(\"div\", property=\"alternateName\"):\n",
    "        alternateNames.append(name_div.text.split(\"Short name:\")[0])\n",
    "    \n",
    "    query = { \"UPID\": UPID }\n",
    "    newvalues = { \"$set\": { \"alternateName\": alternateNames } }\n",
    "\n",
    "    dev.update_one(query, newvalues)"
   ]
  }
 ],
 "metadata": {
  "kernelspec": {
   "display_name": "Python 3",
   "language": "python",
   "name": "python3"
  },
  "language_info": {
   "codemirror_mode": {
    "name": "ipython",
    "version": 3
   },
   "file_extension": ".py",
   "mimetype": "text/x-python",
   "name": "python",
   "nbconvert_exporter": "python",
   "pygments_lexer": "ipython3",
   "version": "3.6.9"
  }
 },
 "nbformat": 4,
 "nbformat_minor": 2
}
